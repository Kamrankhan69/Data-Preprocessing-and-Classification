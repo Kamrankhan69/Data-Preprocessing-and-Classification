{
  "nbformat": 4,
  "nbformat_minor": 0,
  "metadata": {
    "colab": {
      "provenance": [],
      "include_colab_link": true
    },
    "kernelspec": {
      "name": "python3",
      "display_name": "Python 3"
    },
    "language_info": {
      "name": "python"
    },
    "accelerator": "GPU"
  },
  "cells": [
    {
      "cell_type": "markdown",
      "metadata": {
        "id": "view-in-github",
        "colab_type": "text"
      },
      "source": [
        "<a href=\"https://colab.research.google.com/github/Kamrankhan69/Data-Preprocessing-and-classification/blob/main/Data_Preprocessing.ipynb\" target=\"_parent\"><img src=\"https://colab.research.google.com/assets/colab-badge.svg\" alt=\"Open In Colab\"/></a>"
      ]
    },
    {
      "cell_type": "code",
      "execution_count": null,
      "metadata": {
        "id": "qbT5gUjtxe9x"
      },
      "outputs": [],
      "source": [
        "from google.colab import drive\n",
        "drive.mount('/content/drive')"
      ]
    },
    {
      "cell_type": "code",
      "execution_count": null,
      "metadata": {
        "id": "RSscmktAgIBs"
      },
      "outputs": [],
      "source": [
        "path = '/content/drive/My Drive/datasets/covtype.data'"
      ]
    },
    {
      "cell_type": "code",
      "execution_count": null,
      "metadata": {
        "colab": {
          "base_uri": "https://localhost:8080/"
        },
        "outputId": "5d8fadbf-5201-435a-a48c-29f05936c851",
        "id": "FMaDni1cyxGV"
      },
      "outputs": [
        {
          "output_type": "stream",
          "name": "stdout",
          "text": [
            "<class 'pandas.core.frame.DataFrame'>\n",
            "RangeIndex: 581011 entries, 0 to 581010\n",
            "Data columns (total 55 columns):\n",
            " #   Column  Non-Null Count   Dtype\n",
            "---  ------  --------------   -----\n",
            " 0   2596    581011 non-null  int64\n",
            " 1   51      581011 non-null  int64\n",
            " 2   3       581011 non-null  int64\n",
            " 3   258     581011 non-null  int64\n",
            " 4   0       581011 non-null  int64\n",
            " 5   510     581011 non-null  int64\n",
            " 6   221     581011 non-null  int64\n",
            " 7   232     581011 non-null  int64\n",
            " 8   148     581011 non-null  int64\n",
            " 9   6279    581011 non-null  int64\n",
            " 10  1       581011 non-null  int64\n",
            " 11  0.1     581011 non-null  int64\n",
            " 12  0.2     581011 non-null  int64\n",
            " 13  0.3     581011 non-null  int64\n",
            " 14  0.4     581011 non-null  int64\n",
            " 15  0.5     581011 non-null  int64\n",
            " 16  0.6     581011 non-null  int64\n",
            " 17  0.7     581011 non-null  int64\n",
            " 18  0.8     581011 non-null  int64\n",
            " 19  0.9     581011 non-null  int64\n",
            " 20  0.10    581011 non-null  int64\n",
            " 21  0.11    581011 non-null  int64\n",
            " 22  0.12    581011 non-null  int64\n",
            " 23  0.13    581011 non-null  int64\n",
            " 24  0.14    581011 non-null  int64\n",
            " 25  0.15    581011 non-null  int64\n",
            " 26  0.16    581011 non-null  int64\n",
            " 27  0.17    581011 non-null  int64\n",
            " 28  0.18    581011 non-null  int64\n",
            " 29  0.19    581011 non-null  int64\n",
            " 30  0.20    581011 non-null  int64\n",
            " 31  0.21    581011 non-null  int64\n",
            " 32  0.22    581011 non-null  int64\n",
            " 33  0.23    581011 non-null  int64\n",
            " 34  0.24    581011 non-null  int64\n",
            " 35  0.25    581011 non-null  int64\n",
            " 36  0.26    581011 non-null  int64\n",
            " 37  0.27    581011 non-null  int64\n",
            " 38  0.28    581011 non-null  int64\n",
            " 39  0.29    581011 non-null  int64\n",
            " 40  0.30    581011 non-null  int64\n",
            " 41  0.31    581011 non-null  int64\n",
            " 42  1.1     581011 non-null  int64\n",
            " 43  0.32    581011 non-null  int64\n",
            " 44  0.33    581011 non-null  int64\n",
            " 45  0.34    581011 non-null  int64\n",
            " 46  0.35    581011 non-null  int64\n",
            " 47  0.36    581011 non-null  int64\n",
            " 48  0.37    581011 non-null  int64\n",
            " 49  0.38    581011 non-null  int64\n",
            " 50  0.39    581011 non-null  int64\n",
            " 51  0.40    581011 non-null  int64\n",
            " 52  0.41    581011 non-null  int64\n",
            " 53  0.42    581011 non-null  int64\n",
            " 54  5       581011 non-null  int64\n",
            "dtypes: int64(55)\n",
            "memory usage: 243.8 MB\n"
          ]
        }
      ],
      "source": [
        "import pandas as pd\n",
        "data = pd.read_csv(path, header=0)\n",
        "data.info()"
      ]
    },
    {
      "cell_type": "code",
      "source": [
        "data.isnull().sum()"
      ],
      "metadata": {
        "colab": {
          "base_uri": "https://localhost:8080/"
        },
        "id": "-EFJrhwq6spQ",
        "outputId": "c0482825-e729-49a0-ea80-8b1465940f23"
      },
      "execution_count": null,
      "outputs": [
        {
          "output_type": "execute_result",
          "data": {
            "text/plain": [
              "2596    0\n",
              "51      0\n",
              "3       0\n",
              "258     0\n",
              "0       0\n",
              "510     0\n",
              "221     0\n",
              "232     0\n",
              "148     0\n",
              "6279    0\n",
              "1       0\n",
              "0.1     0\n",
              "0.2     0\n",
              "0.3     0\n",
              "0.4     0\n",
              "0.5     0\n",
              "0.6     0\n",
              "0.7     0\n",
              "0.8     0\n",
              "0.9     0\n",
              "0.10    0\n",
              "0.11    0\n",
              "0.12    0\n",
              "0.13    0\n",
              "0.14    0\n",
              "0.15    0\n",
              "0.16    0\n",
              "0.17    0\n",
              "0.18    0\n",
              "0.19    0\n",
              "0.20    0\n",
              "0.21    0\n",
              "0.22    0\n",
              "0.23    0\n",
              "0.24    0\n",
              "0.25    0\n",
              "0.26    0\n",
              "0.27    0\n",
              "0.28    0\n",
              "0.29    0\n",
              "0.30    0\n",
              "0.31    0\n",
              "1.1     0\n",
              "0.32    0\n",
              "0.33    0\n",
              "0.34    0\n",
              "0.35    0\n",
              "0.36    0\n",
              "0.37    0\n",
              "0.38    0\n",
              "0.39    0\n",
              "0.40    0\n",
              "0.41    0\n",
              "0.42    0\n",
              "5       0\n",
              "dtype: int64"
            ]
          },
          "metadata": {},
          "execution_count": 4
        }
      ]
    },
    {
      "cell_type": "code",
      "source": [
        "# impute missing values via the column mean\n",
        "\n",
        "from sklearn.impute import SimpleImputer\n",
        "import numpy as np\n",
        "\n",
        "imr = SimpleImputer(missing_values=np.nan, strategy='mean')\n",
        "imr = imr.fit(data.values)\n",
        "imputed_data = imr.transform(data.values)\n",
        "imputed_data"
      ],
      "metadata": {
        "colab": {
          "base_uri": "https://localhost:8080/"
        },
        "id": "YNCEvNsvR6Bw",
        "outputId": "31390e43-d13b-4333-9817-c0fa0d5b3034"
      },
      "execution_count": null,
      "outputs": [
        {
          "output_type": "execute_result",
          "data": {
            "text/plain": [
              "array([[2.590e+03, 5.600e+01, 2.000e+00, ..., 0.000e+00, 0.000e+00,\n",
              "        5.000e+00],\n",
              "       [2.804e+03, 1.390e+02, 9.000e+00, ..., 0.000e+00, 0.000e+00,\n",
              "        2.000e+00],\n",
              "       [2.785e+03, 1.550e+02, 1.800e+01, ..., 0.000e+00, 0.000e+00,\n",
              "        2.000e+00],\n",
              "       ...,\n",
              "       [2.386e+03, 1.590e+02, 1.700e+01, ..., 0.000e+00, 0.000e+00,\n",
              "        3.000e+00],\n",
              "       [2.384e+03, 1.700e+02, 1.500e+01, ..., 0.000e+00, 0.000e+00,\n",
              "        3.000e+00],\n",
              "       [2.383e+03, 1.650e+02, 1.300e+01, ..., 0.000e+00, 0.000e+00,\n",
              "        3.000e+00]])"
            ]
          },
          "metadata": {},
          "execution_count": 5
        }
      ]
    },
    {
      "cell_type": "code",
      "source": [
        "len(data)"
      ],
      "metadata": {
        "colab": {
          "base_uri": "https://localhost:8080/"
        },
        "id": "Sascb-35S4eL",
        "outputId": "57fa6b70-b9d5-4bc6-c404-a0dbe688c3d9"
      },
      "execution_count": null,
      "outputs": [
        {
          "output_type": "execute_result",
          "data": {
            "text/plain": [
              "581011"
            ]
          },
          "metadata": {},
          "execution_count": 6
        }
      ]
    },
    {
      "cell_type": "code",
      "source": [],
      "metadata": {
        "id": "vmoNeNFjS4Zy"
      },
      "execution_count": null,
      "outputs": []
    },
    {
      "cell_type": "code",
      "source": [
        "len(data)"
      ],
      "metadata": {
        "colab": {
          "base_uri": "https://localhost:8080/"
        },
        "id": "JgQ26vM8S1v-",
        "outputId": "481398e7-a67d-4fca-8656-79cc2191a6c6"
      },
      "execution_count": null,
      "outputs": [
        {
          "output_type": "execute_result",
          "data": {
            "text/plain": [
              "581011"
            ]
          },
          "metadata": {},
          "execution_count": 7
        }
      ]
    },
    {
      "cell_type": "code",
      "source": [
        "data.values"
      ],
      "metadata": {
        "colab": {
          "base_uri": "https://localhost:8080/"
        },
        "id": "uBdVK1IHIHQE",
        "outputId": "8fd684bd-fe74-40fc-89fb-1177cb1c8f0d"
      },
      "execution_count": null,
      "outputs": [
        {
          "output_type": "execute_result",
          "data": {
            "text/plain": [
              "array([[2590,   56,    2, ...,    0,    0,    5],\n",
              "       [2804,  139,    9, ...,    0,    0,    2],\n",
              "       [2785,  155,   18, ...,    0,    0,    2],\n",
              "       ...,\n",
              "       [2386,  159,   17, ...,    0,    0,    3],\n",
              "       [2384,  170,   15, ...,    0,    0,    3],\n",
              "       [2383,  165,   13, ...,    0,    0,    3]])"
            ]
          },
          "metadata": {},
          "execution_count": 8
        }
      ]
    },
    {
      "cell_type": "code",
      "source": [
        "import numpy as np\n",
        "\n",
        "X = data.drop(\"5\",axis=1)\n",
        "y = data[\"5\"]\n",
        "\n",
        "print('Class labels:', np.unique(y))"
      ],
      "metadata": {
        "colab": {
          "base_uri": "https://localhost:8080/"
        },
        "id": "G3U2bLO7IbiC",
        "outputId": "caf8dbfa-9d26-4403-8d05-2c0ea5d306c1"
      },
      "execution_count": null,
      "outputs": [
        {
          "output_type": "stream",
          "name": "stdout",
          "text": [
            "Class labels: [1 2 3 4 5 6 7]\n"
          ]
        }
      ]
    },
    {
      "cell_type": "code",
      "source": [
        "from sklearn.model_selection import train_test_split\n",
        "\n",
        "X_train, X_test, y_train, y_test = train_test_split(X, y, test_size=0.3, random_state=1, stratify=y)"
      ],
      "metadata": {
        "id": "vuV8O6DzJcuU"
      },
      "execution_count": null,
      "outputs": []
    },
    {
      "cell_type": "markdown",
      "metadata": {
        "id": "3dvK_3NfCqZK"
      },
      "source": [
        "**Features standardization**"
      ]
    },
    {
      "cell_type": "code",
      "execution_count": null,
      "metadata": {
        "id": "JsHX-CB0Cady"
      },
      "outputs": [],
      "source": [
        "from sklearn.preprocessing import StandardScaler\n",
        "\n",
        "sc = StandardScaler()\n",
        "sc.fit(X_train)\n",
        "X_train_std = sc.transform(X_train)\n",
        "X_test_std = sc.transform(X_test)"
      ]
    },
    {
      "cell_type": "markdown",
      "source": [
        "# **Perceptron**"
      ],
      "metadata": {
        "id": "IW0M9lC18yue"
      }
    },
    {
      "cell_type": "code",
      "execution_count": null,
      "metadata": {
        "id": "MWbDfsxtCyVR",
        "colab": {
          "base_uri": "https://localhost:8080/"
        },
        "outputId": "655a9f48-ee28-4ce0-8408-036f97426194"
      },
      "outputs": [
        {
          "output_type": "execute_result",
          "data": {
            "text/plain": [
              "Perceptron(eta0=0.01, random_state=1)"
            ]
          },
          "metadata": {},
          "execution_count": 12
        }
      ],
      "source": [
        "from sklearn.linear_model import Perceptron\n",
        "\n",
        "ppn = Perceptron(eta0=0.01, random_state=1)\n",
        "ppn.fit(X_train_std, y_train)"
      ]
    },
    {
      "cell_type": "code",
      "execution_count": null,
      "metadata": {
        "id": "ctdgm3v9C9O6",
        "colab": {
          "base_uri": "https://localhost:8080/"
        },
        "outputId": "1ee0e9d0-0ecb-47dd-f232-0edcc5ba8a36"
      },
      "outputs": [
        {
          "output_type": "stream",
          "name": "stdout",
          "text": [
            "Misclassified examples: 64059\n"
          ]
        }
      ],
      "source": [
        "y_pred = ppn.predict(X_test_std)\n",
        "print('Misclassified examples: %d' % (y_test != y_pred).sum())"
      ]
    },
    {
      "cell_type": "markdown",
      "metadata": {
        "id": "zylKVNKUDX-z"
      },
      "source": [
        "**score method does it directly**"
      ]
    },
    {
      "cell_type": "code",
      "execution_count": null,
      "metadata": {
        "id": "aOCe3XHoDKMq",
        "colab": {
          "base_uri": "https://localhost:8080/"
        },
        "outputId": "750fcbb8-7460-406b-a762-93def6b36e3c"
      },
      "outputs": [
        {
          "output_type": "stream",
          "name": "stdout",
          "text": [
            "Accuracy: 0.632\n"
          ]
        }
      ],
      "source": [
        "from sklearn.metrics import accuracy_score\n",
        "print('Accuracy: %.3f' % ppn.score(X_test_std, y_test))"
      ]
    },
    {
      "cell_type": "code",
      "source": [
        "from sklearn.metrics import confusion_matrix\n",
        "confusion_matrix = confusion_matrix(y_test, y_pred)\n",
        "print(confusion_matrix)"
      ],
      "metadata": {
        "colab": {
          "base_uri": "https://localhost:8080/"
        },
        "id": "ZpKXpxgsjE0f",
        "outputId": "7193df6d-2045-494a-d7e9-9481632027db"
      },
      "execution_count": null,
      "outputs": [
        {
          "output_type": "stream",
          "name": "stdout",
          "text": [
            "[[38790 21401    14     0    80     3  3264]\n",
            " [22039 60785  1345     3   435   230   154]\n",
            " [   12  3540  5632   255   125  1162     0]\n",
            " [    0    39   344   315     0   126     0]\n",
            " [   27  2531    80     0   209     1     0]\n",
            " [   37  2626  1418   119   200   810     0]\n",
            " [ 2336    87    26     0     0     0  3704]]\n"
          ]
        }
      ]
    },
    {
      "cell_type": "code",
      "source": [
        "from sklearn.metrics import classification_report\n",
        "print(classification_report(y_test, y_pred))"
      ],
      "metadata": {
        "colab": {
          "base_uri": "https://localhost:8080/"
        },
        "id": "lqgmPD9yjD-4",
        "outputId": "58e328ec-a44a-4bf1-dc0c-e1cbc5e12840"
      },
      "execution_count": null,
      "outputs": [
        {
          "output_type": "stream",
          "name": "stdout",
          "text": [
            "              precision    recall  f1-score   support\n",
            "\n",
            "           1       0.61      0.61      0.61     63552\n",
            "           2       0.67      0.72      0.69     84991\n",
            "           3       0.64      0.53      0.58     10726\n",
            "           4       0.46      0.38      0.42       824\n",
            "           5       0.20      0.07      0.11      2848\n",
            "           6       0.35      0.16      0.21      5210\n",
            "           7       0.52      0.60      0.56      6153\n",
            "\n",
            "    accuracy                           0.63    174304\n",
            "   macro avg       0.49      0.44      0.45    174304\n",
            "weighted avg       0.62      0.63      0.63    174304\n",
            "\n"
          ]
        }
      ]
    },
    {
      "cell_type": "markdown",
      "source": [
        "# **AdaLine**"
      ],
      "metadata": {
        "id": "7y_cJt5vwiLD"
      }
    },
    {
      "cell_type": "code",
      "source": [
        "class AdalineGD(object):\n",
        "    \"\"\"ADAptive LInear NEuron classifier.\n",
        "\n",
        "    Parameters\n",
        "    ------------\n",
        "    eta : float\n",
        "        Learning rate (between 0.0 and 1.0)\n",
        "    n_iter : int\n",
        "        Passes over the training dataset.\n",
        "    random_state : int\n",
        "        The seed of the pseudo random number generator.\n",
        "\n",
        "    Attributes\n",
        "    -----------\n",
        "    w_ : 1d-array\n",
        "        Weights after fitting.\n",
        "    errors_ : list\n",
        "        Number of misclassifications in every epoch.\n",
        "\n",
        "    \"\"\"\n",
        "    def __init__(self, eta=0.01, n_iter=50, random_state=1):\n",
        "        self.eta = eta\n",
        "        self.n_iter = n_iter\n",
        "        self.random_state = random_state\n",
        "\n",
        "    def fit(self, X, y):\n",
        "        \"\"\" Fit training data.\n",
        "\n",
        "        Parameters\n",
        "        ----------\n",
        "        X : array-like; shape = [n_samples, n_features]\n",
        "            Training vectors, where n_samples is the number of samples and\n",
        "            n_features is the number of features.\n",
        "        y : array-like; shape = [n_samples]\n",
        "            Target values or labels.\n",
        "\n",
        "        Returns\n",
        "        -------\n",
        "        self : object\n",
        "\n",
        "        \"\"\"\n",
        "        rgen = np.random.RandomState(self.random_state)\n",
        "        self.w_ = rgen.normal(loc=0.0, scale=0.01, size=1+X.shape[1])\n",
        "        self.cost_ = []\n",
        "\n",
        "        for i in range(self.n_iter):\n",
        "            output = self.activation(X)\n",
        "\n",
        "            # Cost function\n",
        "            error = (y - output)\n",
        "            cost = (error**2).sum() / 2.0\n",
        "            self.cost_.append(cost)\n",
        "\n",
        "            # Update rule\n",
        "            self.w_[1:] += self.eta * X.T.dot(error)\n",
        "            self.w_[0] += self.eta * error.sum()\n",
        "\n",
        "        return self\n",
        "\n",
        "    def net_input(self, X):\n",
        "        \"\"\"Calculate net input\"\"\"\n",
        "        return np.dot(X, self.w_[1:]) + self.w_[0]\n",
        "\n",
        "    def activation(self, X):\n",
        "        \"\"\"Compute linear activation\"\"\"\n",
        "        return self.net_input(X)\n",
        "\n",
        "    def predict(self, X):\n",
        "        \"\"\"Return class label after unit step\"\"\"\n",
        "        return np.where(self.activation(X) >= 0.0, 1, -1)"
      ],
      "metadata": {
        "id": "K5W0rHujwhlE"
      },
      "execution_count": null,
      "outputs": []
    },
    {
      "cell_type": "code",
      "source": [
        "ada = AdalineGD(n_iter=50, eta=0.001).fit(X_train_std, y_train)\n",
        "\n",
        "\n",
        "y_pred = ada.predict(X_test_std)\n",
        "print('Misclassified samples: %d' % (y_test != y_pred).sum())\n",
        "print('Accuracy: %.2f' % accuracy_score(y_test, y_pred))\n"
      ],
      "metadata": {
        "colab": {
          "base_uri": "https://localhost:8080/"
        },
        "id": "gdxy81L743S_",
        "outputId": "0cc5a02d-d247-4d50-ac88-f32ce2e1afb8"
      },
      "execution_count": null,
      "outputs": [
        {
          "output_type": "stream",
          "name": "stdout",
          "text": [
            "Misclassified samples: 138348\n",
            "Accuracy: 0.21\n"
          ]
        }
      ]
    },
    {
      "cell_type": "code",
      "source": [
        "from sklearn.metrics import confusion_matrix\n",
        "confusion_matrix = confusion_matrix(y_test, y_pred)\n",
        "print(confusion_matrix)"
      ],
      "metadata": {
        "colab": {
          "base_uri": "https://localhost:8080/"
        },
        "id": "ZZtGQn8R43CG",
        "outputId": "1a64a3ba-49b9-4e13-a975-1c9d30fcf53d"
      },
      "execution_count": null,
      "outputs": [
        {
          "output_type": "stream",
          "name": "stdout",
          "text": [
            "[[    0     0     0     0     0     0     0     0]\n",
            " [27596 35956     0     0     0     0     0     0]\n",
            " [39532 45459     0     0     0     0     0     0]\n",
            " [10726     0     0     0     0     0     0     0]\n",
            " [  824     0     0     0     0     0     0     0]\n",
            " [ 1792  1056     0     0     0     0     0     0]\n",
            " [ 5210     0     0     0     0     0     0     0]\n",
            " [ 2616  3537     0     0     0     0     0     0]]\n"
          ]
        }
      ]
    },
    {
      "cell_type": "code",
      "source": [
        "from sklearn.metrics import classification_report\n",
        "print(classification_report(y_test, y_pred))"
      ],
      "metadata": {
        "colab": {
          "base_uri": "https://localhost:8080/"
        },
        "id": "yC2OmJ085qWw",
        "outputId": "f02dd6ef-e68b-454b-e672-a59ff32982df"
      },
      "execution_count": null,
      "outputs": [
        {
          "output_type": "stream",
          "name": "stderr",
          "text": [
            "/usr/local/lib/python3.7/dist-packages/sklearn/metrics/_classification.py:1318: UndefinedMetricWarning: Precision and F-score are ill-defined and being set to 0.0 in labels with no predicted samples. Use `zero_division` parameter to control this behavior.\n",
            "  _warn_prf(average, modifier, msg_start, len(result))\n",
            "/usr/local/lib/python3.7/dist-packages/sklearn/metrics/_classification.py:1318: UndefinedMetricWarning: Recall and F-score are ill-defined and being set to 0.0 in labels with no true samples. Use `zero_division` parameter to control this behavior.\n",
            "  _warn_prf(average, modifier, msg_start, len(result))\n"
          ]
        },
        {
          "output_type": "stream",
          "name": "stdout",
          "text": [
            "              precision    recall  f1-score   support\n",
            "\n",
            "          -1       0.00      0.00      0.00         0\n",
            "           1       0.42      0.57      0.48     63552\n",
            "           2       0.00      0.00      0.00     84991\n",
            "           3       0.00      0.00      0.00     10726\n",
            "           4       0.00      0.00      0.00       824\n",
            "           5       0.00      0.00      0.00      2848\n",
            "           6       0.00      0.00      0.00      5210\n",
            "           7       0.00      0.00      0.00      6153\n",
            "\n",
            "    accuracy                           0.21    174304\n",
            "   macro avg       0.05      0.07      0.06    174304\n",
            "weighted avg       0.15      0.21      0.18    174304\n",
            "\n"
          ]
        },
        {
          "output_type": "stream",
          "name": "stderr",
          "text": [
            "/usr/local/lib/python3.7/dist-packages/sklearn/metrics/_classification.py:1318: UndefinedMetricWarning: Precision and F-score are ill-defined and being set to 0.0 in labels with no predicted samples. Use `zero_division` parameter to control this behavior.\n",
            "  _warn_prf(average, modifier, msg_start, len(result))\n",
            "/usr/local/lib/python3.7/dist-packages/sklearn/metrics/_classification.py:1318: UndefinedMetricWarning: Recall and F-score are ill-defined and being set to 0.0 in labels with no true samples. Use `zero_division` parameter to control this behavior.\n",
            "  _warn_prf(average, modifier, msg_start, len(result))\n",
            "/usr/local/lib/python3.7/dist-packages/sklearn/metrics/_classification.py:1318: UndefinedMetricWarning: Precision and F-score are ill-defined and being set to 0.0 in labels with no predicted samples. Use `zero_division` parameter to control this behavior.\n",
            "  _warn_prf(average, modifier, msg_start, len(result))\n",
            "/usr/local/lib/python3.7/dist-packages/sklearn/metrics/_classification.py:1318: UndefinedMetricWarning: Recall and F-score are ill-defined and being set to 0.0 in labels with no true samples. Use `zero_division` parameter to control this behavior.\n",
            "  _warn_prf(average, modifier, msg_start, len(result))\n"
          ]
        }
      ]
    },
    {
      "cell_type": "markdown",
      "metadata": {
        "id": "PaqjAuvqYT15"
      },
      "source": [
        "\n",
        "#**SVM**"
      ]
    },
    {
      "cell_type": "code",
      "source": [
        "from sklearn import svm\n",
        "from sklearn.metrics import accuracy_score\n",
        "\n",
        "svmc = svm.SVC().fit(X_train_std, y_train)\n",
        "y_pred = svmc.predict(X_test_std)\n",
        "\n",
        "print('Misclassified examples: %d' % (y_test != y_pred).sum())\n",
        "print('Accuracy: %.3f' % svmc.score(X_test_std, y_test))"
      ],
      "metadata": {
        "id": "Kp93H83wYT17"
      },
      "execution_count": null,
      "outputs": []
    },
    {
      "cell_type": "code",
      "source": [
        "from sklearn.metrics import confusion_matrix\n",
        "confusion_matrix = confusion_matrix(y_test, y_pred)\n",
        "print(confusion_matrix)"
      ],
      "metadata": {
        "id": "qwVaqn-lYT18"
      },
      "execution_count": null,
      "outputs": []
    },
    {
      "cell_type": "code",
      "source": [
        "from sklearn.metrics import classification_report\n",
        "print(classification_report(y_test, y_pred))"
      ],
      "metadata": {
        "id": "EElIWyIqYT1-"
      },
      "execution_count": null,
      "outputs": []
    },
    {
      "cell_type": "markdown",
      "metadata": {
        "id": "TwK_FuQGa1XT"
      },
      "source": [
        "\n",
        "#**Random Forest**"
      ]
    },
    {
      "cell_type": "code",
      "source": [
        "from sklearn.ensemble import RandomForestClassifier\n",
        "from sklearn.metrics import accuracy_score\n",
        "\n",
        "rfc = RandomForestClassifier(n_estimators = 100)\n",
        "rfc = rfc.fit(X_train_std, y_train)\n",
        "y_pred = rfc.predict(X_test_std)\n",
        "\n",
        "print('Misclassified examples: %d' % (y_test != y_pred).sum())\n",
        "print('Accuracy: %.3f' % rfc.score(X_test_std, y_test))"
      ],
      "metadata": {
        "id": "bh-uJsv2a1Xo"
      },
      "execution_count": null,
      "outputs": []
    },
    {
      "cell_type": "code",
      "source": [
        "from sklearn.metrics import confusion_matrix\n",
        "confusion_matrix = confusion_matrix(y_test, y_pred)\n",
        "print(confusion_matrix)"
      ],
      "metadata": {
        "id": "3tGtq11Ka1Xq"
      },
      "execution_count": null,
      "outputs": []
    },
    {
      "cell_type": "code",
      "source": [
        "from sklearn.metrics import classification_report\n",
        "print(classification_report(y_test, y_pred))"
      ],
      "metadata": {
        "id": "7nbB-5GCa1Xr"
      },
      "execution_count": null,
      "outputs": []
    },
    {
      "cell_type": "code",
      "source": [],
      "metadata": {
        "id": "GqyG7U4tbmk8"
      },
      "execution_count": null,
      "outputs": []
    },
    {
      "cell_type": "markdown",
      "metadata": {
        "id": "dmG2mYwGcKyO"
      },
      "source": [
        "\n",
        "\n",
        "#**Decision Tree**"
      ]
    },
    {
      "cell_type": "code",
      "source": [
        "from sklearn.tree import DecisionTreeClassifier\n",
        "from sklearn.metrics import accuracy_score\n",
        "\n",
        "dtc = DecisionTreeClassifier(random_state = 0).fit(X_train_std, y_train)\n",
        "y_pred = dtc.predict(X_test_std)\n",
        "\n",
        "print('Misclassified examples: %d' % (y_test != y_pred).sum())\n",
        "print('Accuracy: %.3f' % dtc.score(X_test_std, y_test))"
      ],
      "metadata": {
        "id": "vAiiUKy_cKyP"
      },
      "execution_count": null,
      "outputs": []
    },
    {
      "cell_type": "code",
      "source": [
        "from sklearn.metrics import confusion_matrix\n",
        "confusion_matrix = confusion_matrix(y_test, y_pred)\n",
        "print(confusion_matrix)"
      ],
      "metadata": {
        "id": "rcKsFqoWcKyQ"
      },
      "execution_count": null,
      "outputs": []
    },
    {
      "cell_type": "code",
      "source": [
        "from sklearn.metrics import classification_report\n",
        "print(classification_report(y_test, y_pred))"
      ],
      "metadata": {
        "id": "exIV4SUTcKyR"
      },
      "execution_count": null,
      "outputs": []
    },
    {
      "cell_type": "markdown",
      "metadata": {
        "id": "mlbk_Gw4cLSc"
      },
      "source": [
        "#**KNN**"
      ]
    },
    {
      "cell_type": "code",
      "source": [
        "from sklearn.neighbors import KNeighborsClassifier\n",
        "from sklearn.metrics import accuracy_score\n",
        "\n",
        "knn = KNeighborsClassifier(n_neighbors=5).fit(X_train_std, y_train)\n",
        "y_pred = knn.predict(X_test_std)\n",
        "\n",
        "print('Misclassified examples: %d' % (y_test != y_pred).sum())\n",
        "print('Accuracy: %.3f' % knn.score(X_test_std, y_test))"
      ],
      "metadata": {
        "id": "3mEDeE7ecLSd"
      },
      "execution_count": null,
      "outputs": []
    },
    {
      "cell_type": "code",
      "source": [
        "from sklearn.metrics import confusion_matrix\n",
        "confusion_matrix = confusion_matrix(y_test, y_pred)\n",
        "print(confusion_matrix)"
      ],
      "metadata": {
        "id": "LXmVEqZVcLSf"
      },
      "execution_count": null,
      "outputs": []
    },
    {
      "cell_type": "code",
      "source": [
        "from sklearn.metrics import classification_report\n",
        "print(classification_report(y_test, y_pred))"
      ],
      "metadata": {
        "id": "ANJxRhpgcLSg"
      },
      "execution_count": null,
      "outputs": []
    },
    {
      "cell_type": "code",
      "source": [],
      "metadata": {
        "id": "G_dNcRX5BpIR"
      },
      "execution_count": null,
      "outputs": []
    }
  ]
}